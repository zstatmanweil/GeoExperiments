{
 "cells": [
  {
   "cell_type": "code",
   "execution_count": 2,
   "metadata": {},
   "outputs": [
    {
     "name": "stderr",
     "output_type": "stream",
     "text": [
      "C:\\Users\\zstat\\Anaconda2\\lib\\site-packages\\rasterio\\__init__.py:160: FutureWarning: GDAL-style transforms are deprecated and will not be supported in Rasterio 1.0.\n",
      "  transform = guard_transform(transform)\n"
     ]
    }
   ],
   "source": [
    "#this method of stacking bands assumes that your input layers share the same extent, resolution and data type\n",
    "\n",
    "import rasterio\n",
    "\n",
    "blue_fn = './BayAreaLandsat/LC08_L1TP_044034_20180329_20180405_01_T1_B2.TIF'\n",
    "green_fn = './BayAreaLandsat/LC08_L1TP_044034_20180329_20180405_01_T1_B3.TIF'\n",
    "red_fn = './BayAreaLandsat/LC08_L1TP_044034_20180329_20180405_01_T1_B4.TIF'\n",
    "\n",
    "file_list = [blue_fn, green_fn, red_fn]\n",
    "\n",
    "#read metadata of first file\n",
    "with rasterio.open(file_list[0]) as src0:\n",
    "    meta = src0.meta\n",
    "    \n",
    "#update meta data to reflect the number of layers\n",
    "meta.update(count = len(file_list))\n",
    "\n",
    "#read each layer and write it to a stack\n",
    "with rasterio.open('./BayAreaLandsat/stack.tif', 'w', **meta) as dst:\n",
    "    for id, layer in enumerate(file_list):\n",
    "        with rasterio.open(layer) as src1:\n",
    "            dst.write_band(id + 1, src1.read(1))"
   ]
  },
  {
   "cell_type": "code",
   "execution_count": null,
   "metadata": {},
   "outputs": [],
   "source": []
  }
 ],
 "metadata": {
  "kernelspec": {
   "display_name": "Python 2",
   "language": "python",
   "name": "python2"
  },
  "language_info": {
   "codemirror_mode": {
    "name": "ipython",
    "version": 2
   },
   "file_extension": ".py",
   "mimetype": "text/x-python",
   "name": "python",
   "nbconvert_exporter": "python",
   "pygments_lexer": "ipython2",
   "version": "2.7.15"
  }
 },
 "nbformat": 4,
 "nbformat_minor": 2
}
